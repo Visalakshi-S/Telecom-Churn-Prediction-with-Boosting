{
  "nbformat": 4,
  "nbformat_minor": 0,
  "metadata": {
    "colab": {
      "name": "Telecom Churn Prediction with Boosting .ipynb",
      "provenance": [],
      "collapsed_sections": []
    },
    "kernelspec": {
      "name": "python3",
      "display_name": "Python 3"
    }
  },
  "cells": [
    {
      "cell_type": "code",
      "metadata": {
        "id": "63VI8vbt1-vw"
      },
      "source": [
        "\r\n"
      ],
      "execution_count": 84,
      "outputs": []
    },
    {
      "cell_type": "markdown",
      "metadata": {
        "id": "8EVLkZceJt9A"
      },
      "source": [
        "Customer churn, also known as customer attrition, customer turnover, or customer defection, is the loss of clients or customers. Telephone service companies, Internet service providers, pay-TV companies, insurance firms, and alarm monitoring services, often use customer attrition analysis and customer attrition rates as one of their key business metrics because the cost of retaining an existing customer is far less than acquiring a new one.\r\n",
        "\r\n",
        "Predictive analytics use churn prediction models that predict customer churn by assessing their propensity of risk to churn. Since these models generate a small prioritized list of potential defectors, they are effective at focusing customer retention marketing programs on the subset of the customer base who are most vulnerable to churn.\r\n",
        "\r\n",
        "For this project, we will be exploring the dataset of a telecom company and try to predict the customer churn\r\n",
        "\r\n",
        "**Problem Statement**\r\n",
        "\r\n",
        "Using the method of Boosting, classify whether or not the customer will churn\r\n",
        "A zipped file containing the following items is given:\r\n",
        "\r\n",
        "**train.csv**\r\n",
        "The data file train.csv contains the 5634 instances with the 21 features including the target feature.\r\n",
        "\r\n",
        "**test.csv**\r\n",
        "The datafile test.csv contains the 1409instances with the 20 features excluding the target feature\r\n",
        "**Evaluation metrics**\r\n",
        "For this particular dataset, we are using accuracy_score as the evaluation metric.\r\n",
        "\r\n",
        "Submissions will be evaluated based on accuracy_score as per the below threshold.\r\n",
        "\r\n",
        "Your accuracy_score score\tPoints earned for the Task\r\n",
        "\r\n",
        "0.795 <= accuracy_score\t100% of the available points\r\n",
        "0.77 <= accuracy_score < 0.795\t80% of the available points\r\n",
        "0.75 < accuracy_score < 0.77\t70% of the available points\r\n",
        "accuracy_score <= 0.75\tNo points earned"
      ]
    },
    {
      "cell_type": "code",
      "metadata": {
        "id": "_VA1XvGHI0SD"
      },
      "source": [
        "import pandas as pd\r\n",
        "import numpy as np\r\n",
        "from sklearn.tree import DecisionTreeClassifier\r\n",
        "from sklearn.model_selection import train_test_split\r\n",
        "from sklearn.ensemble import AdaBoostClassifier\r\n",
        "train_path=\"/content/drive/MyDrive/Colab_Notebooks/boosting_train.csv\"\r\n",
        "test_path = \"/content/drive/MyDrive/Colab_Notebooks/boosting_test.csv\"\r\n",
        "df_train=pd.read_csv(train_path)\r\n",
        "df_test=pd.read_csv(test_path)"
      ],
      "execution_count": null,
      "outputs": []
    },
    {
      "cell_type": "markdown",
      "metadata": {
        "id": "OHa6XBwlKPxZ"
      },
      "source": [
        "Viewing the first 5 rows in train & test data"
      ]
    },
    {
      "cell_type": "code",
      "metadata": {
        "colab": {
          "base_uri": "https://localhost:8080/",
          "height": 301
        },
        "id": "0vu0o2ld2CKp",
        "outputId": "6011c776-1d49-4abc-ba15-04551873d955"
      },
      "source": [
        "df_train.head()"
      ],
      "execution_count": 85,
      "outputs": [
        {
          "output_type": "execute_result",
          "data": {
            "text/html": [
              "<div>\n",
              "<style scoped>\n",
              "    .dataframe tbody tr th:only-of-type {\n",
              "        vertical-align: middle;\n",
              "    }\n",
              "\n",
              "    .dataframe tbody tr th {\n",
              "        vertical-align: top;\n",
              "    }\n",
              "\n",
              "    .dataframe thead th {\n",
              "        text-align: right;\n",
              "    }\n",
              "</style>\n",
              "<table border=\"1\" class=\"dataframe\">\n",
              "  <thead>\n",
              "    <tr style=\"text-align: right;\">\n",
              "      <th></th>\n",
              "      <th>Id</th>\n",
              "      <th>customerID</th>\n",
              "      <th>gender</th>\n",
              "      <th>SeniorCitizen</th>\n",
              "      <th>Partner</th>\n",
              "      <th>Dependents</th>\n",
              "      <th>tenure</th>\n",
              "      <th>PhoneService</th>\n",
              "      <th>MultipleLines</th>\n",
              "      <th>InternetService</th>\n",
              "      <th>OnlineSecurity</th>\n",
              "      <th>OnlineBackup</th>\n",
              "      <th>DeviceProtection</th>\n",
              "      <th>TechSupport</th>\n",
              "      <th>StreamingTV</th>\n",
              "      <th>StreamingMovies</th>\n",
              "      <th>Contract</th>\n",
              "      <th>PaperlessBilling</th>\n",
              "      <th>PaymentMethod</th>\n",
              "      <th>MonthlyCharges</th>\n",
              "      <th>TotalCharges</th>\n",
              "      <th>Churn</th>\n",
              "    </tr>\n",
              "  </thead>\n",
              "  <tbody>\n",
              "    <tr>\n",
              "      <th>0</th>\n",
              "      <td>1370</td>\n",
              "      <td>7596-IIWYC</td>\n",
              "      <td>Female</td>\n",
              "      <td>0</td>\n",
              "      <td>No</td>\n",
              "      <td>No</td>\n",
              "      <td>27</td>\n",
              "      <td>Yes</td>\n",
              "      <td>No</td>\n",
              "      <td>No</td>\n",
              "      <td>No internet service</td>\n",
              "      <td>No internet service</td>\n",
              "      <td>No internet service</td>\n",
              "      <td>No internet service</td>\n",
              "      <td>No internet service</td>\n",
              "      <td>No internet service</td>\n",
              "      <td>Two year</td>\n",
              "      <td>Yes</td>\n",
              "      <td>Bank transfer (automatic)</td>\n",
              "      <td>20.25</td>\n",
              "      <td>538.2</td>\n",
              "      <td>No</td>\n",
              "    </tr>\n",
              "    <tr>\n",
              "      <th>1</th>\n",
              "      <td>5676</td>\n",
              "      <td>9103-CXVOK</td>\n",
              "      <td>Male</td>\n",
              "      <td>0</td>\n",
              "      <td>Yes</td>\n",
              "      <td>Yes</td>\n",
              "      <td>1</td>\n",
              "      <td>Yes</td>\n",
              "      <td>No</td>\n",
              "      <td>No</td>\n",
              "      <td>No internet service</td>\n",
              "      <td>No internet service</td>\n",
              "      <td>No internet service</td>\n",
              "      <td>No internet service</td>\n",
              "      <td>No internet service</td>\n",
              "      <td>No internet service</td>\n",
              "      <td>Month-to-month</td>\n",
              "      <td>No</td>\n",
              "      <td>Electronic check</td>\n",
              "      <td>19.75</td>\n",
              "      <td>19.75</td>\n",
              "      <td>No</td>\n",
              "    </tr>\n",
              "    <tr>\n",
              "      <th>2</th>\n",
              "      <td>5800</td>\n",
              "      <td>7129-CAKJW</td>\n",
              "      <td>Female</td>\n",
              "      <td>0</td>\n",
              "      <td>No</td>\n",
              "      <td>No</td>\n",
              "      <td>17</td>\n",
              "      <td>Yes</td>\n",
              "      <td>Yes</td>\n",
              "      <td>Fiber optic</td>\n",
              "      <td>No</td>\n",
              "      <td>No</td>\n",
              "      <td>Yes</td>\n",
              "      <td>No</td>\n",
              "      <td>No</td>\n",
              "      <td>No</td>\n",
              "      <td>Month-to-month</td>\n",
              "      <td>No</td>\n",
              "      <td>Bank transfer (automatic)</td>\n",
              "      <td>80.05</td>\n",
              "      <td>1345.65</td>\n",
              "      <td>No</td>\n",
              "    </tr>\n",
              "    <tr>\n",
              "      <th>3</th>\n",
              "      <td>1645</td>\n",
              "      <td>9490-DFPMD</td>\n",
              "      <td>Female</td>\n",
              "      <td>1</td>\n",
              "      <td>No</td>\n",
              "      <td>No</td>\n",
              "      <td>42</td>\n",
              "      <td>Yes</td>\n",
              "      <td>Yes</td>\n",
              "      <td>Fiber optic</td>\n",
              "      <td>No</td>\n",
              "      <td>No</td>\n",
              "      <td>No</td>\n",
              "      <td>No</td>\n",
              "      <td>Yes</td>\n",
              "      <td>No</td>\n",
              "      <td>Month-to-month</td>\n",
              "      <td>Yes</td>\n",
              "      <td>Electronic check</td>\n",
              "      <td>84.65</td>\n",
              "      <td>3541.35</td>\n",
              "      <td>Yes</td>\n",
              "    </tr>\n",
              "    <tr>\n",
              "      <th>4</th>\n",
              "      <td>366</td>\n",
              "      <td>9069-LGEUL</td>\n",
              "      <td>Male</td>\n",
              "      <td>0</td>\n",
              "      <td>Yes</td>\n",
              "      <td>No</td>\n",
              "      <td>23</td>\n",
              "      <td>Yes</td>\n",
              "      <td>No</td>\n",
              "      <td>DSL</td>\n",
              "      <td>Yes</td>\n",
              "      <td>No</td>\n",
              "      <td>No</td>\n",
              "      <td>No</td>\n",
              "      <td>No</td>\n",
              "      <td>Yes</td>\n",
              "      <td>Month-to-month</td>\n",
              "      <td>Yes</td>\n",
              "      <td>Bank transfer (automatic)</td>\n",
              "      <td>59.95</td>\n",
              "      <td>1406</td>\n",
              "      <td>No</td>\n",
              "    </tr>\n",
              "  </tbody>\n",
              "</table>\n",
              "</div>"
            ],
            "text/plain": [
              "     Id  customerID  gender  ...  MonthlyCharges TotalCharges Churn\n",
              "0  1370  7596-IIWYC  Female  ...           20.25        538.2    No\n",
              "1  5676  9103-CXVOK    Male  ...           19.75        19.75    No\n",
              "2  5800  7129-CAKJW  Female  ...           80.05      1345.65    No\n",
              "3  1645  9490-DFPMD  Female  ...           84.65      3541.35   Yes\n",
              "4   366  9069-LGEUL    Male  ...           59.95         1406    No\n",
              "\n",
              "[5 rows x 22 columns]"
            ]
          },
          "metadata": {
            "tags": []
          },
          "execution_count": 85
        }
      ]
    },
    {
      "cell_type": "code",
      "metadata": {
        "colab": {
          "base_uri": "https://localhost:8080/",
          "height": 301
        },
        "id": "RMOiG5ou2Xfg",
        "outputId": "73bd7387-d6e5-4024-e102-627891ba947a"
      },
      "source": [
        "df_test.head()\r\n"
      ],
      "execution_count": 86,
      "outputs": [
        {
          "output_type": "execute_result",
          "data": {
            "text/html": [
              "<div>\n",
              "<style scoped>\n",
              "    .dataframe tbody tr th:only-of-type {\n",
              "        vertical-align: middle;\n",
              "    }\n",
              "\n",
              "    .dataframe tbody tr th {\n",
              "        vertical-align: top;\n",
              "    }\n",
              "\n",
              "    .dataframe thead th {\n",
              "        text-align: right;\n",
              "    }\n",
              "</style>\n",
              "<table border=\"1\" class=\"dataframe\">\n",
              "  <thead>\n",
              "    <tr style=\"text-align: right;\">\n",
              "      <th></th>\n",
              "      <th>Id</th>\n",
              "      <th>customerID</th>\n",
              "      <th>gender</th>\n",
              "      <th>SeniorCitizen</th>\n",
              "      <th>Partner</th>\n",
              "      <th>Dependents</th>\n",
              "      <th>tenure</th>\n",
              "      <th>PhoneService</th>\n",
              "      <th>MultipleLines</th>\n",
              "      <th>InternetService</th>\n",
              "      <th>OnlineSecurity</th>\n",
              "      <th>OnlineBackup</th>\n",
              "      <th>DeviceProtection</th>\n",
              "      <th>TechSupport</th>\n",
              "      <th>StreamingTV</th>\n",
              "      <th>StreamingMovies</th>\n",
              "      <th>Contract</th>\n",
              "      <th>PaperlessBilling</th>\n",
              "      <th>PaymentMethod</th>\n",
              "      <th>MonthlyCharges</th>\n",
              "      <th>TotalCharges</th>\n",
              "    </tr>\n",
              "  </thead>\n",
              "  <tbody>\n",
              "    <tr>\n",
              "      <th>0</th>\n",
              "      <td>4539</td>\n",
              "      <td>4355-HBJHH</td>\n",
              "      <td>Male</td>\n",
              "      <td>0</td>\n",
              "      <td>Yes</td>\n",
              "      <td>Yes</td>\n",
              "      <td>67</td>\n",
              "      <td>Yes</td>\n",
              "      <td>Yes</td>\n",
              "      <td>DSL</td>\n",
              "      <td>Yes</td>\n",
              "      <td>No</td>\n",
              "      <td>Yes</td>\n",
              "      <td>No</td>\n",
              "      <td>Yes</td>\n",
              "      <td>Yes</td>\n",
              "      <td>Two year</td>\n",
              "      <td>Yes</td>\n",
              "      <td>Electronic check</td>\n",
              "      <td>79.70</td>\n",
              "      <td>5293.4</td>\n",
              "    </tr>\n",
              "    <tr>\n",
              "      <th>1</th>\n",
              "      <td>1802</td>\n",
              "      <td>7492-TAFJD</td>\n",
              "      <td>Male</td>\n",
              "      <td>0</td>\n",
              "      <td>Yes</td>\n",
              "      <td>Yes</td>\n",
              "      <td>7</td>\n",
              "      <td>No</td>\n",
              "      <td>No phone service</td>\n",
              "      <td>DSL</td>\n",
              "      <td>Yes</td>\n",
              "      <td>Yes</td>\n",
              "      <td>Yes</td>\n",
              "      <td>No</td>\n",
              "      <td>No</td>\n",
              "      <td>No</td>\n",
              "      <td>Two year</td>\n",
              "      <td>No</td>\n",
              "      <td>Mailed check</td>\n",
              "      <td>38.55</td>\n",
              "      <td>280</td>\n",
              "    </tr>\n",
              "    <tr>\n",
              "      <th>2</th>\n",
              "      <td>1380</td>\n",
              "      <td>1131-SUEKT</td>\n",
              "      <td>Male</td>\n",
              "      <td>0</td>\n",
              "      <td>Yes</td>\n",
              "      <td>Yes</td>\n",
              "      <td>61</td>\n",
              "      <td>Yes</td>\n",
              "      <td>No</td>\n",
              "      <td>Fiber optic</td>\n",
              "      <td>No</td>\n",
              "      <td>Yes</td>\n",
              "      <td>No</td>\n",
              "      <td>Yes</td>\n",
              "      <td>Yes</td>\n",
              "      <td>Yes</td>\n",
              "      <td>One year</td>\n",
              "      <td>Yes</td>\n",
              "      <td>Bank transfer (automatic)</td>\n",
              "      <td>98.45</td>\n",
              "      <td>6145.2</td>\n",
              "    </tr>\n",
              "    <tr>\n",
              "      <th>3</th>\n",
              "      <td>5305</td>\n",
              "      <td>9027-TMATR</td>\n",
              "      <td>Female</td>\n",
              "      <td>0</td>\n",
              "      <td>Yes</td>\n",
              "      <td>No</td>\n",
              "      <td>43</td>\n",
              "      <td>Yes</td>\n",
              "      <td>No</td>\n",
              "      <td>DSL</td>\n",
              "      <td>Yes</td>\n",
              "      <td>No</td>\n",
              "      <td>Yes</td>\n",
              "      <td>Yes</td>\n",
              "      <td>Yes</td>\n",
              "      <td>Yes</td>\n",
              "      <td>Two year</td>\n",
              "      <td>Yes</td>\n",
              "      <td>Electronic check</td>\n",
              "      <td>78.80</td>\n",
              "      <td>3460.3</td>\n",
              "    </tr>\n",
              "    <tr>\n",
              "      <th>4</th>\n",
              "      <td>1960</td>\n",
              "      <td>5846-QFDFI</td>\n",
              "      <td>Female</td>\n",
              "      <td>0</td>\n",
              "      <td>Yes</td>\n",
              "      <td>Yes</td>\n",
              "      <td>33</td>\n",
              "      <td>Yes</td>\n",
              "      <td>Yes</td>\n",
              "      <td>Fiber optic</td>\n",
              "      <td>No</td>\n",
              "      <td>Yes</td>\n",
              "      <td>Yes</td>\n",
              "      <td>Yes</td>\n",
              "      <td>No</td>\n",
              "      <td>No</td>\n",
              "      <td>Month-to-month</td>\n",
              "      <td>No</td>\n",
              "      <td>Credit card (automatic)</td>\n",
              "      <td>88.60</td>\n",
              "      <td>2888.7</td>\n",
              "    </tr>\n",
              "  </tbody>\n",
              "</table>\n",
              "</div>"
            ],
            "text/plain": [
              "     Id  customerID  ... MonthlyCharges  TotalCharges\n",
              "0  4539  4355-HBJHH  ...          79.70        5293.4\n",
              "1  1802  7492-TAFJD  ...          38.55           280\n",
              "2  1380  1131-SUEKT  ...          98.45        6145.2\n",
              "3  5305  9027-TMATR  ...          78.80        3460.3\n",
              "4  1960  5846-QFDFI  ...          88.60        2888.7\n",
              "\n",
              "[5 rows x 21 columns]"
            ]
          },
          "metadata": {
            "tags": []
          },
          "execution_count": 86
        }
      ]
    },
    {
      "cell_type": "markdown",
      "metadata": {
        "id": "2QRyQq2YKY5R"
      },
      "source": [
        "Droping the columns ID & Custoer ID in both train & test data"
      ]
    },
    {
      "cell_type": "code",
      "metadata": {
        "id": "xaJIhyLX2fFi"
      },
      "source": [
        "df_train.drop([\"Id\",\"customerID\"],axis=1,inplace=True)\r\n",
        "df_test.drop([\"Id\",\"customerID\"],axis=1,inplace=True)"
      ],
      "execution_count": 87,
      "outputs": []
    },
    {
      "cell_type": "markdown",
      "metadata": {
        "id": "JYmq91N4Kd5f"
      },
      "source": [
        "Checking the data types for the given dataset"
      ]
    },
    {
      "cell_type": "code",
      "metadata": {
        "colab": {
          "base_uri": "https://localhost:8080/"
        },
        "id": "heDoj0G92w_I",
        "outputId": "5e4e9fc2-ec9c-48d8-e7ab-baaa8196e3a8"
      },
      "source": [
        "df_train.dtypes"
      ],
      "execution_count": 88,
      "outputs": [
        {
          "output_type": "execute_result",
          "data": {
            "text/plain": [
              "gender               object\n",
              "SeniorCitizen         int64\n",
              "Partner              object\n",
              "Dependents           object\n",
              "tenure                int64\n",
              "PhoneService         object\n",
              "MultipleLines        object\n",
              "InternetService      object\n",
              "OnlineSecurity       object\n",
              "OnlineBackup         object\n",
              "DeviceProtection     object\n",
              "TechSupport          object\n",
              "StreamingTV          object\n",
              "StreamingMovies      object\n",
              "Contract             object\n",
              "PaperlessBilling     object\n",
              "PaymentMethod        object\n",
              "MonthlyCharges      float64\n",
              "TotalCharges         object\n",
              "Churn                object\n",
              "dtype: object"
            ]
          },
          "metadata": {
            "tags": []
          },
          "execution_count": 88
        }
      ]
    },
    {
      "cell_type": "markdown",
      "metadata": {
        "id": "QbE13mwYKp-p"
      },
      "source": [
        "Changing the object categories to int by using cat codes & string column (Total charges) to float in both train & test data"
      ]
    },
    {
      "cell_type": "code",
      "metadata": {
        "id": "VOogj3UJ3Ls6"
      },
      "source": [
        "df_train[\"gender\"]=df_train[\"gender\"].astype('category').cat.codes\r\n",
        "df_train[\"Partner\"]=df_train[\"Partner\"].astype('category').cat.codes\r\n",
        "df_train[\"Dependents\"]=df_train[\"Dependents\"].astype('category').cat.codes\r\n",
        "df_train[\"PhoneService\"]=df_train[\"PhoneService\"].astype('category').cat.codes\r\n",
        "df_train[\"MultipleLines\"]=df_train[\"MultipleLines\"].astype('category').cat.codes\r\n",
        "df_train[\"InternetService\"]=df_train[\"InternetService\"].astype('category').cat.codes\r\n",
        "df_train[\"OnlineSecurity\"]=df_train[\"OnlineSecurity\"].astype('category').cat.codes\r\n",
        "df_train[\"OnlineBackup\"]=df_train[\"OnlineBackup\"].astype('category').cat.codes\r\n",
        "df_train[\"DeviceProtection\"]=df_train[\"DeviceProtection\"].astype('category').cat.codes\r\n",
        "df_train[\"TechSupport\"]=df_train[\"TechSupport\"].astype('category').cat.codes\r\n",
        "df_train[\"StreamingTV\"]=df_train[\"StreamingTV\"].astype('category').cat.codes\r\n",
        "df_train[\"StreamingMovies\"]=df_train[\"StreamingMovies\"].astype('category').cat.codes\r\n",
        "df_train[\"Contract\"]=df_train[\"Contract\"].astype('category').cat.codes\r\n",
        "df_train[\"PaperlessBilling\"]=df_train[\"PaperlessBilling\"].astype('category').cat.codes\r\n",
        "df_train[\"PaymentMethod\"]=df_train[\"PaymentMethod\"].astype('category').cat.codes\r\n",
        "df_train[\"Churn\"]=df_train[\"Churn\"].astype('category').cat.codes\r\n",
        "df_train['TotalCharges'] = pd.to_numeric(df_train['TotalCharges'],errors='coerce').astype('float')"
      ],
      "execution_count": 92,
      "outputs": []
    },
    {
      "cell_type": "code",
      "metadata": {
        "id": "uMEuoKun3Sl_"
      },
      "source": [
        "df_test[\"gender\"]=df_test[\"gender\"].astype('category').cat.codes\r\n",
        "df_test[\"Partner\"]=df_test[\"Partner\"].astype('category').cat.codes\r\n",
        "df_test[\"Dependents\"]=df_test[\"Dependents\"].astype('category').cat.codes\r\n",
        "df_test[\"PhoneService\"]=df_test[\"PhoneService\"].astype('category').cat.codes\r\n",
        "df_test[\"MultipleLines\"]=df_test[\"MultipleLines\"].astype('category').cat.codes\r\n",
        "df_test[\"InternetService\"]=df_test[\"InternetService\"].astype('category').cat.codes\r\n",
        "df_test[\"OnlineSecurity\"]=df_test[\"OnlineSecurity\"].astype('category').cat.codes\r\n",
        "df_test[\"OnlineBackup\"]=df_test[\"OnlineBackup\"].astype('category').cat.codes\r\n",
        "df_test[\"DeviceProtection\"]=df_test[\"DeviceProtection\"].astype('category').cat.codes\r\n",
        "df_test[\"TechSupport\"]=df_test[\"TechSupport\"].astype('category').cat.codes\r\n",
        "df_test[\"StreamingTV\"]=df_test[\"StreamingTV\"].astype('category').cat.codes\r\n",
        "df_test[\"StreamingMovies\"]=df_test[\"StreamingMovies\"].astype('category').cat.codes\r\n",
        "df_test[\"Contract\"]=df_test[\"Contract\"].astype('category').cat.codes\r\n",
        "df_test[\"PaperlessBilling\"]=df_test[\"PaperlessBilling\"].astype('category').cat.codes\r\n",
        "df_test[\"PaymentMethod\"]=df_test[\"PaymentMethod\"].astype('category').cat.codes\r\n",
        "df_test['TotalCharges'] = pd.to_numeric(df_test['TotalCharges'],errors='coerce').astype('float')"
      ],
      "execution_count": 93,
      "outputs": []
    },
    {
      "cell_type": "markdown",
      "metadata": {
        "id": "sU2bKK7yK65H"
      },
      "source": [
        "Checking the data types after making changes"
      ]
    },
    {
      "cell_type": "code",
      "metadata": {
        "colab": {
          "base_uri": "https://localhost:8080/"
        },
        "id": "LBXRH3Vm8H4j",
        "outputId": "83368013-677d-4a70-e00c-9f0115ca63bb"
      },
      "source": [
        "df_train.dtypes"
      ],
      "execution_count": 95,
      "outputs": [
        {
          "output_type": "execute_result",
          "data": {
            "text/plain": [
              "gender                 int8\n",
              "SeniorCitizen         int64\n",
              "Partner                int8\n",
              "Dependents             int8\n",
              "tenure                int64\n",
              "PhoneService           int8\n",
              "MultipleLines          int8\n",
              "InternetService        int8\n",
              "OnlineSecurity         int8\n",
              "OnlineBackup           int8\n",
              "DeviceProtection       int8\n",
              "TechSupport            int8\n",
              "StreamingTV            int8\n",
              "StreamingMovies        int8\n",
              "Contract               int8\n",
              "PaperlessBilling       int8\n",
              "PaymentMethod          int8\n",
              "MonthlyCharges      float64\n",
              "TotalCharges        float64\n",
              "Churn                  int8\n",
              "dtype: object"
            ]
          },
          "metadata": {
            "tags": []
          },
          "execution_count": 95
        }
      ]
    },
    {
      "cell_type": "markdown",
      "metadata": {
        "id": "Hpu34Bl5LcXG"
      },
      "source": [
        "checking for the null values in both train & test data"
      ]
    },
    {
      "cell_type": "code",
      "metadata": {
        "colab": {
          "base_uri": "https://localhost:8080/"
        },
        "id": "-rPaoCPz9BId",
        "outputId": "0acc8a2a-3bef-41e8-e24d-72e7d160438b"
      },
      "source": [
        "df_train.isnull().sum()"
      ],
      "execution_count": 96,
      "outputs": [
        {
          "output_type": "execute_result",
          "data": {
            "text/plain": [
              "gender              0\n",
              "SeniorCitizen       0\n",
              "Partner             0\n",
              "Dependents          0\n",
              "tenure              0\n",
              "PhoneService        0\n",
              "MultipleLines       0\n",
              "InternetService     0\n",
              "OnlineSecurity      0\n",
              "OnlineBackup        0\n",
              "DeviceProtection    0\n",
              "TechSupport         0\n",
              "StreamingTV         0\n",
              "StreamingMovies     0\n",
              "Contract            0\n",
              "PaperlessBilling    0\n",
              "PaymentMethod       0\n",
              "MonthlyCharges      0\n",
              "TotalCharges        9\n",
              "Churn               0\n",
              "dtype: int64"
            ]
          },
          "metadata": {
            "tags": []
          },
          "execution_count": 96
        }
      ]
    },
    {
      "cell_type": "code",
      "metadata": {
        "colab": {
          "base_uri": "https://localhost:8080/"
        },
        "id": "aikY8r0T99fX",
        "outputId": "0caed73d-3e09-4259-8d7a-f4cf339ef8d9"
      },
      "source": [
        "df_test.isnull().sum()"
      ],
      "execution_count": 97,
      "outputs": [
        {
          "output_type": "execute_result",
          "data": {
            "text/plain": [
              "gender              0\n",
              "SeniorCitizen       0\n",
              "Partner             0\n",
              "Dependents          0\n",
              "tenure              0\n",
              "PhoneService        0\n",
              "MultipleLines       0\n",
              "InternetService     0\n",
              "OnlineSecurity      0\n",
              "OnlineBackup        0\n",
              "DeviceProtection    0\n",
              "TechSupport         0\n",
              "StreamingTV         0\n",
              "StreamingMovies     0\n",
              "Contract            0\n",
              "PaperlessBilling    0\n",
              "PaymentMethod       0\n",
              "MonthlyCharges      0\n",
              "TotalCharges        2\n",
              "dtype: int64"
            ]
          },
          "metadata": {
            "tags": []
          },
          "execution_count": 97
        }
      ]
    },
    {
      "cell_type": "markdown",
      "metadata": {
        "id": "48NFG1v6Lj6H"
      },
      "source": [
        "Filling the null values using the method forward fill in both train & test data"
      ]
    },
    {
      "cell_type": "code",
      "metadata": {
        "id": "ikZQVdjl9n_E"
      },
      "source": [
        "df_train['TotalCharges'].fillna(method='ffill',inplace=True)\r\n",
        "df_test['TotalCharges'].fillna(method='ffill',inplace=True)"
      ],
      "execution_count": 102,
      "outputs": []
    },
    {
      "cell_type": "code",
      "metadata": {
        "colab": {
          "base_uri": "https://localhost:8080/"
        },
        "id": "q6hgQWHY-J6v",
        "outputId": "93332a82-4c85-4443-a863-56cd53fcdb52"
      },
      "source": [
        "df_test.isnull().sum()"
      ],
      "execution_count": 104,
      "outputs": [
        {
          "output_type": "execute_result",
          "data": {
            "text/plain": [
              "gender              0\n",
              "SeniorCitizen       0\n",
              "Partner             0\n",
              "Dependents          0\n",
              "tenure              0\n",
              "PhoneService        0\n",
              "MultipleLines       0\n",
              "InternetService     0\n",
              "OnlineSecurity      0\n",
              "OnlineBackup        0\n",
              "DeviceProtection    0\n",
              "TechSupport         0\n",
              "StreamingTV         0\n",
              "StreamingMovies     0\n",
              "Contract            0\n",
              "PaperlessBilling    0\n",
              "PaymentMethod       0\n",
              "MonthlyCharges      0\n",
              "TotalCharges        0\n",
              "dtype: int64"
            ]
          },
          "metadata": {
            "tags": []
          },
          "execution_count": 104
        }
      ]
    },
    {
      "cell_type": "markdown",
      "metadata": {
        "id": "pH5CMP3SLvZD"
      },
      "source": [
        "Splitting into X & y & using decision tree predicting the value"
      ]
    },
    {
      "cell_type": "code",
      "metadata": {
        "colab": {
          "base_uri": "https://localhost:8080/"
        },
        "id": "AFJk-Zbo6_GI",
        "outputId": "fe9ba54c-fa2c-43cc-ce24-19c3f778f1cd"
      },
      "source": [
        "X=df_train.iloc[:,:19]\r\n",
        "y=df_train.iloc[:,-1]\r\n",
        "X_train,X_test,y_train,y_test = train_test_split(X,y,test_size = 0.3,random_state = 0)\r\n",
        "dt_clf=DecisionTreeClassifier(max_depth=1,random_state=0)\r\n",
        "dt_clf.fit(X_train,y_train)\r\n",
        "y_pred=dt_clf.predict(X_test)\r\n",
        "from sklearn.metrics import accuracy_score\r\n",
        "dt_accuracy_score = accuracy_score(y_test, y_pred)\r\n",
        "print(dt_accuracy_score)"
      ],
      "execution_count": 108,
      "outputs": [
        {
          "output_type": "stream",
          "text": [
            "0.7332939089296274\n"
          ],
          "name": "stdout"
        }
      ]
    },
    {
      "cell_type": "markdown",
      "metadata": {
        "id": "EF3An08zMJuJ"
      },
      "source": [
        "Using adaboost to the decision tree \r\n",
        "& calculating the accuracy score"
      ]
    },
    {
      "cell_type": "code",
      "metadata": {
        "colab": {
          "base_uri": "https://localhost:8080/"
        },
        "id": "je1RgziK7rs6",
        "outputId": "e7bb4e9e-75a1-4aef-d1ea-b1a3d45c62ea"
      },
      "source": [
        "##Adaboost\r\n",
        "from sklearn.ensemble import AdaBoostClassifier\r\n",
        "ada_clf = AdaBoostClassifier(base_estimator=dt_clf,random_state=0)\r\n",
        "ada_clf.fit(X_train,y_train)\r\n",
        "ada_pred=ada_clf.predict(X_test)\r\n",
        "ada_accuracyscore = accuracy_score(y_test, ada_pred)\r\n",
        "print(ada_accuracyscore)"
      ],
      "execution_count": 109,
      "outputs": [
        {
          "output_type": "stream",
          "text": [
            "0.7971614429331756\n"
          ],
          "name": "stdout"
        }
      ]
    },
    {
      "cell_type": "markdown",
      "metadata": {
        "id": "ZbWUpOZTMYKK"
      },
      "source": [
        "Using Gradientboost to the decision tree \r\n",
        "& calculating the accuracy score"
      ]
    },
    {
      "cell_type": "code",
      "metadata": {
        "colab": {
          "base_uri": "https://localhost:8080/"
        },
        "id": "efRA5uUF_v2g",
        "outputId": "d6660952-9577-4b0c-cacd-30a0d4fba619"
      },
      "source": [
        " from sklearn.ensemble import GradientBoostingClassifier\r\n",
        " gb_clf=GradientBoostingClassifier(random_state=0)\r\n",
        "gb_clf.fit(X_train,y_train)\r\n",
        "gda_pred=gb_clf.predict(X_test)\r\n",
        "gda_accuracyscore = accuracy_score(y_test, gda_pred)\r\n",
        "print(gda_accuracyscore)\r\n"
      ],
      "execution_count": 110,
      "outputs": [
        {
          "output_type": "stream",
          "text": [
            "0.7983441750443524\n"
          ],
          "name": "stdout"
        }
      ]
    },
    {
      "cell_type": "markdown",
      "metadata": {
        "id": "rrWpzyTbMb3c"
      },
      "source": [
        "Using xgboost to the decision tree \r\n",
        "& calculating the accuracy score"
      ]
    },
    {
      "cell_type": "code",
      "metadata": {
        "colab": {
          "base_uri": "https://localhost:8080/"
        },
        "id": "tLMsAuGTFyjp",
        "outputId": "58e75c98-091d-4f5c-e092-5f69eede7fbe"
      },
      "source": [
        "from xgboost import XGBClassifier\r\n",
        "xgb_clf = XGBClassifier(base_estimator=dt_clf,random_state=0)\r\n",
        "xgb_clf.fit(X_train,y_train)\r\n",
        "xgb_pred=xgb_clf.predict(X_test)\r\n",
        "xgb_accuracyscore = accuracy_score(y_test, xgb_pred)\r\n",
        "print(xgb_accuracyscore)"
      ],
      "execution_count": 112,
      "outputs": [
        {
          "output_type": "stream",
          "text": [
            "0.8030751034890597\n"
          ],
          "name": "stdout"
        }
      ]
    },
    {
      "cell_type": "markdown",
      "metadata": {
        "id": "izh2xgULMkc_"
      },
      "source": [
        "Since the accuracy is good when we use XGboost we are predicting the test data & submitting the file"
      ]
    },
    {
      "cell_type": "code",
      "metadata": {
        "colab": {
          "base_uri": "https://localhost:8080/"
        },
        "id": "ge5jZ_uqG4Iu",
        "outputId": "193ee25d-f05a-433f-93cd-c8a36e47c94a"
      },
      "source": [
        "y_pred_test = xgb_clf.predict(df_test)\r\n",
        "print(y_pred_test)\r\n",
        "submissions_f = pd.DataFrame(y_pred_test,columns = ['Chum'])\r\n",
        "submissions_f.to_csv('/content/drive/MyDrive/Colab_Notebooks/boosting_sample_submission.csv')"
      ],
      "execution_count": 113,
      "outputs": [
        {
          "output_type": "stream",
          "text": [
            "[0 0 0 ... 0 0 0]\n"
          ],
          "name": "stdout"
        }
      ]
    },
    {
      "cell_type": "code",
      "metadata": {
        "id": "lX2KT4uBHUem"
      },
      "source": [
        ""
      ],
      "execution_count": null,
      "outputs": []
    }
  ]
}